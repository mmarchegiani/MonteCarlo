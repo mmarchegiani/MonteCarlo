{
 "cells": [
  {
   "cell_type": "markdown",
   "metadata": {},
   "source": [
    "# Assignment Monte Carlo in Medical Physics\n",
    "## $\\pi$ determination and CLT - SERIE 3\n",
    "**Assignment 1)**\n",
    "Determine $\\pi$ by sampling random numbers in a square.\n",
    "Repeat the simulation several times and compare the results as function of the number of\n",
    "random numbers. Use similar plots as used for the simulation of the Buffon problem."
   ]
  },
  {
   "cell_type": "code",
   "execution_count": 20,
   "metadata": {},
   "outputs": [
    {
     "name": "stdout",
     "output_type": "stream",
     "text": [
      "N = 10000\tpi = 3.116000\n",
      "N = 20000\tpi = 3.144000\n",
      "N = 30000\tpi = 3.145600\n",
      "N = 40000\tpi = 3.147600\n",
      "N = 50000\tpi = 3.148480\n",
      "N = 60000\tpi = 3.146133\n",
      "N = 70000\tpi = 3.144457\n",
      "N = 80000\tpi = 3.145700\n",
      "N = 90000\tpi = 3.146489\n",
      "N = 100000\tpi = 3.144040\n",
      "pi = 3.144040\n"
     ]
    },
    {
     "data": {
      "image/png": "[encoded data removed]",
      "text/plain": [
       "<matplotlib.figure.Figure at 0x7f5f9f1a2710>"
      ]
     },
     "metadata": {},
     "output_type": "display_data"
    }
   ],
   "source": [
    "import numpy as np\n",
    "from numpy.random import rand\n",
    "import matplotlib.pyplot as plt\n",
    "\n",
    "size = [10**3, 10**6, 10**9]\n",
    "N = 100000\n",
    "x = rand(N)\n",
    "y = rand(N)\n",
    "\n",
    "hits = 0\n",
    "pi = np.array([])\n",
    "step = int(N/10)\n",
    "for i in range(N):\n",
    "    if x[i]**2 + y[i]**2 <= 1:\n",
    "        hits += 1\n",
    "    pi = np.append(pi, 4*float(hits/(i+1)))\n",
    "    if ((i+1) % step) == 0:\n",
    "        print(\"N = %d\\tpi = %f\" % (i+1, pi[-1]))\n",
    "\n",
    "print(\"pi = %f\" % pi[-1])\n",
    "plt.plot(range(N), pi, color=\"red\")\n",
    "plt.axhline(np.pi, 0, N, linestyle=\"--\")\n",
    "plt.show()"
   ]
  },
  {
   "cell_type": "markdown",
   "metadata": {},
   "source": [
    "In a second set of simulation use the random number generators of the exercise series 1,\n",
    "which provide a non-uniform distribution in 2D and study the impact on the result of the\n",
    "simulation."
   ]
  },
  {
   "cell_type": "code",
   "execution_count": 21,
   "metadata": {},
   "outputs": [
    {
     "name": "stdout",
     "output_type": "stream",
     "text": [
      "N = 10000\tpi = 3.997200\n",
      "N = 20000\tpi = 3.998600\n",
      "N = 30000\tpi = 3.999067\n",
      "N = 40000\tpi = 3.999300\n",
      "N = 50000\tpi = 3.999440\n",
      "N = 60000\tpi = 3.999533\n",
      "N = 70000\tpi = 3.999600\n",
      "N = 80000\tpi = 3.999650\n",
      "N = 90000\tpi = 3.999689\n",
      "N = 100000\tpi = 3.999720\n",
      "pi = 3.999720\n"
     ]
    },
    {
     "data": {
      "image/png": "[encoded data removed]",
      "text/plain": [
       "<matplotlib.figure.Figure at 0x7f5f9f1a2da0>"
      ]
     },
     "metadata": {},
     "output_type": "display_data"
    }
   ],
   "source": [
    "def PseudoRandomGenerator(size, seed, a):\n",
    "    c = 0; m = 2**32\n",
    "    x = np.empty(size)\n",
    "    x[0] = seed\n",
    "    for i in range(1, size):\n",
    "        x[i] = (a*x[i-1] + c) % m\n",
    "    return x/float(m)\n",
    "\n",
    "def PseudoRandom(min, max, size, seed, a):\n",
    "    x = PseudoRandomGenerator(size, seed, a)\n",
    "    return min + (max - min)*x\n",
    "\n",
    "seed = 987654321\n",
    "a = 663608941\n",
    "x = PseudoRandomGenerator(N, seed, a)\n",
    "y = PseudoRandomGenerator(N, seed+1, a+1)\n",
    "\n",
    "hits = 0\n",
    "pi = np.array([])\n",
    "step = int(N/10)\n",
    "for i in range(N):\n",
    "    if x[i]**2 + y[i]**2 <= 1:\n",
    "        hits += 1\n",
    "    pi = np.append(pi, 4*float(hits/(i+1)))\n",
    "    if ((i+1) % step) == 0:\n",
    "        print(\"N = %d\\tpi = %f\" % (i+1, pi[-1]))\n",
    "\n",
    "print(\"pi = %f\" % pi[-1])\n",
    "plt.plot(range(N), pi, color=\"red\")\n",
    "plt.axhline(np.pi, 0, N, linestyle=\"--\")\n",
    "plt.show()"
   ]
  },
  {
   "cell_type": "markdown",
   "metadata": {},
   "source": [
    "We see that with the pseudorandom generator we used before, the estimation of pi is biased and we don't get the right result."
   ]
  },
  {
   "cell_type": "markdown",
   "metadata": {},
   "source": [
    "**Assignment 2)**\n",
    "What is the result of adding random numbers? Is the sum of x random numbers equal x\n",
    "times one random number? What is the result of multiplying random numbers?"
   ]
  },
  {
   "cell_type": "code",
   "execution_count": 23,
   "metadata": {},
   "outputs": [
    {
     "data": {
      "image/png": "[encoded data removed]",
      "text/plain": [
       "<matplotlib.figure.Figure at 0x7f5f9ef7a710>"
      ]
     },
     "metadata": {},
     "output_type": "display_data"
    },
    {
     "data": {
      "image/png": "[encoded data removed]",
      "text/plain": [
       "<matplotlib.figure.Figure at 0x7f5f9f045320>"
      ]
     },
     "metadata": {},
     "output_type": "display_data"
    }
   ],
   "source": [
    "x = rand(N)\n",
    "y = rand(N)\n",
    "z = rand(N)\n",
    "\n",
    "plt.hist(x+y+z, bins=25, color=\"yellow\", ec=\"black\", histtype=\"stepfilled\")\n",
    "plt.show()\n",
    "\n",
    "plt.hist(x*y*z, bins=25, color=\"green\", ec=\"black\", histtype=\"stepfilled\")\n",
    "plt.show()"
   ]
  },
  {
   "cell_type": "markdown",
   "metadata": {},
   "source": [
    "The sum of random numbers is gaussian distributed, while the product of random numbers is exponential distributed."
   ]
  },
  {
   "cell_type": "code",
   "execution_count": null,
   "metadata": {},
   "outputs": [],
   "source": []
  }
 ],
 "metadata": {
  "kernelspec": {
   "display_name": "Python 3",
   "language": "python",
   "name": "python3"
  },
  "language_info": {
   "codemirror_mode": {
    "name": "ipython",
    "version": 3
   },
   "file_extension": ".py",
   "mimetype": "text/x-python",
   "name": "python",
   "nbconvert_exporter": "python",
   "pygments_lexer": "ipython3",
   "version": "3.6.4"
  }
 },
 "nbformat": 4,
 "nbformat_minor": 2
}
